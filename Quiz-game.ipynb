{
 "cells": [
  {
   "cell_type": "markdown",
   "id": "26f26bf9-2348-4884-a315-e7387e22636e",
   "metadata": {},
   "source": [
    "#### Question :\n",
    "Create a quiz game with multiple-choice questions, branching based on user input and calculating score "
   ]
  },
  {
   "cell_type": "code",
   "execution_count": 6,
   "id": "6ab6ffbd-13c6-43ab-bc32-194d5c86ed85",
   "metadata": {},
   "outputs": [
    {
     "name": "stdout",
     "output_type": "stream",
     "text": [
      "Welcome to the Quiz Game!\n",
      "\n",
      "What is the capital of Nigeria?\n",
      "A. Madrid\n",
      "B. Berlin\n",
      "C. Paris\n",
      "D. Abuja\n"
     ]
    },
    {
     "name": "stdin",
     "output_type": "stream",
     "text": [
      "Enter your answer (A, B, C, or D):  D\n"
     ]
    },
    {
     "name": "stdout",
     "output_type": "stream",
     "text": [
      "It is Correct!\n",
      "\n",
      "What is the name of the present president of Nigeria?\n",
      "A. Buhari\n",
      "B. Tinubu\n",
      "C. Obasanjo\n",
      "D. Yar adua\n"
     ]
    },
    {
     "name": "stdin",
     "output_type": "stream",
     "text": [
      "Enter your answer (A, B, C, or D):  B\n"
     ]
    },
    {
     "name": "stdout",
     "output_type": "stream",
     "text": [
      "It is Correct!\n",
      "\n",
      "Which programming language is known for data science?\n",
      "A. Java\n",
      "B. Python\n",
      "C. C++\n",
      "D. Ruby\n"
     ]
    },
    {
     "name": "stdin",
     "output_type": "stream",
     "text": [
      "Enter your answer (A, B, C, or D):  B\n"
     ]
    },
    {
     "name": "stdout",
     "output_type": "stream",
     "text": [
      "It is Correct!\n",
      "\n",
      "Which cohort is having their 3MTT program now?\n",
      "A. Cohort 1\n",
      "B. Cohort 2\n",
      "C. Cohort 3\n",
      "D. Cohort 4\n"
     ]
    },
    {
     "name": "stdin",
     "output_type": "stream",
     "text": [
      "Enter your answer (A, B, C, or D):  C\n"
     ]
    },
    {
     "name": "stdout",
     "output_type": "stream",
     "text": [
      "It is Correct!\n",
      "\n",
      "What is 5 + 7?\n",
      "A. 10\n",
      "B. 11\n",
      "C. 12\n",
      "D. 13\n"
     ]
    },
    {
     "name": "stdin",
     "output_type": "stream",
     "text": [
      "Enter your answer (A, B, C, or D):  C\n"
     ]
    },
    {
     "name": "stdout",
     "output_type": "stream",
     "text": [
      "It is Correct!\n",
      "\n",
      "Quiz Over! Your final score is 5/5\n"
     ]
    }
   ],
   "source": [
    "def quiz_game():\n",
    "    score = 0  \n",
    "    questions = [\n",
    "        {\"question\": \"What is the capital of Nigeria?\", \"options\": [\"A. Madrid\", \"B. Berlin\", \"C. Paris\", \"D. Abuja\"], \"answer\": \"D\"},\n",
    "        {\"question\": \"What is the name of the present president of Nigeria?\", \"options\": [\"A. Buhari\",\"B. Tinubu\", \"C. Obasanjo\", \"D. Yar adua\"],\"answer\" : \"B\"},\n",
    "        {\"question\": \"Which programming language is known for data science?\", \"options\": [\"A. Java\", \"B. Python\", \"C. C++\", \"D. Ruby\"], \"answer\": \"B\"},\n",
    "        {\"question\": \"Which cohort is having their 3MTT program now?\", \"options\": [\"A. Cohort 1\", \"B. Cohort 2\", \"C. Cohort 3\", \"D. Cohort 4\"], \"answer\": \"C\"},\n",
    "        {\"question\": \"What is 5 + 7?\", \"options\": [\"A. 10\", \"B. 11\", \"C. 12\", \"D. 13\"], \"answer\": \"C\"}\n",
    "    ]\n",
    "    \n",
    "    print(\"Welcome to the Quiz Game!\\n\")\n",
    "    \n",
    "    for i in questions:\n",
    "        print(i[\"question\"])\n",
    "        for option in i[\"options\"]:\n",
    "            print(option)\n",
    "        \n",
    "        user_answers = input(\"Enter your answer (A, B, C, or D): \").strip().upper()\n",
    "        \n",
    "        while user_answers not in [\"A\", \"B\", \"C\", \"D\"]:\n",
    "            print(\"Invalid input. Please enter A, B, C, or D.\")\n",
    "            user_answers = input(\"Enter your answer: \").strip().upper()\n",
    "        \n",
    "        if user_answers == i[\"answer\"]:\n",
    "            print(\"It is Correct!\\n\")\n",
    "            score += 1\n",
    "        else:\n",
    "            print(f\"Wrong! The correct answer is {i['answer']}.\\n\")\n",
    "    \n",
    "    print(f\"Quiz Over! Your final score is {score}/{len(questions)}\")\n",
    "    \n",
    "quiz_game()\n"
   ]
  },
  {
   "cell_type": "code",
   "execution_count": null,
   "id": "5c08c42f-5112-4e14-b47b-fdff64dc8fca",
   "metadata": {},
   "outputs": [],
   "source": []
  }
 ],
 "metadata": {
  "kernelspec": {
   "display_name": "Python [conda env:base] *",
   "language": "python",
   "name": "conda-base-py"
  },
  "language_info": {
   "codemirror_mode": {
    "name": "ipython",
    "version": 3
   },
   "file_extension": ".py",
   "mimetype": "text/x-python",
   "name": "python",
   "nbconvert_exporter": "python",
   "pygments_lexer": "ipython3",
   "version": "3.12.7"
  }
 },
 "nbformat": 4,
 "nbformat_minor": 5
}
